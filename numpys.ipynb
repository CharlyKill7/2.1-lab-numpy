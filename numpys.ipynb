{
 "cells": [
  {
   "cell_type": "markdown",
   "id": "d001aebe",
   "metadata": {},
   "source": [
    "#1. Import the NUMPY package under the name np."
   ]
  },
  {
   "cell_type": "code",
   "execution_count": 1,
   "id": "01b1e3fe",
   "metadata": {},
   "outputs": [],
   "source": [
    "import numpy as np"
   ]
  },
  {
   "cell_type": "markdown",
   "id": "c1b1ce7f",
   "metadata": {},
   "source": [
    "#2. Print the NUMPY version and the configuration."
   ]
  },
  {
   "cell_type": "code",
   "execution_count": 2,
   "id": "d83cd38c",
   "metadata": {},
   "outputs": [
    {
     "name": "stdout",
     "output_type": "stream",
     "text": [
      "1.21.5\n"
     ]
    }
   ],
   "source": [
    "print(np.version.version)"
   ]
  },
  {
   "cell_type": "markdown",
   "id": "ddb5ffdc",
   "metadata": {},
   "source": [
    "#3. Generate a 2x3x5 3-dimensional array with random values. Assign the array to variable \"a\"\n",
    "#Challenge: there are at least three easy ways that use numpy to generate random arrays. How many ways can you find?"
   ]
  },
  {
   "cell_type": "code",
   "execution_count": 3,
   "id": "7ae89386",
   "metadata": {},
   "outputs": [],
   "source": [
    "a = np.random.random((2, 3, 5))"
   ]
  },
  {
   "cell_type": "markdown",
   "id": "abd613a7",
   "metadata": {},
   "source": [
    "#4. Print a."
   ]
  },
  {
   "cell_type": "code",
   "execution_count": 4,
   "id": "3103930b",
   "metadata": {},
   "outputs": [
    {
     "name": "stdout",
     "output_type": "stream",
     "text": [
      "[[[0.97406117 0.79985052 0.19127278 0.14968415 0.48996757]\n",
      "  [0.24453817 0.21364328 0.19700443 0.95558636 0.78461205]\n",
      "  [0.64025474 0.25310534 0.483676   0.10802373 0.40653242]]\n",
      "\n",
      " [[0.22541307 0.83245978 0.62813706 0.79620211 0.46332068]\n",
      "  [0.55826464 0.07283076 0.52204589 0.57846786 0.29153616]\n",
      "  [0.55337331 0.41475841 0.48480169 0.22443061 0.37287129]]]\n"
     ]
    }
   ],
   "source": [
    "print(a)"
   ]
  },
  {
   "cell_type": "markdown",
   "id": "8c4a1a31",
   "metadata": {},
   "source": [
    "#5. Create a 5x2x3 3-dimensional array with all values equaling 1.\n",
    "#Assign the array to variable \"b\"\n"
   ]
  },
  {
   "cell_type": "code",
   "execution_count": 5,
   "id": "41dabe43",
   "metadata": {},
   "outputs": [],
   "source": [
    "b = np.ones((5, 2, 3))"
   ]
  },
  {
   "cell_type": "markdown",
   "id": "bebe96cf",
   "metadata": {},
   "source": [
    "#6. Print b."
   ]
  },
  {
   "cell_type": "code",
   "execution_count": 6,
   "id": "58aeb4b2",
   "metadata": {},
   "outputs": [
    {
     "name": "stdout",
     "output_type": "stream",
     "text": [
      "[[[1. 1. 1.]\n",
      "  [1. 1. 1.]]\n",
      "\n",
      " [[1. 1. 1.]\n",
      "  [1. 1. 1.]]\n",
      "\n",
      " [[1. 1. 1.]\n",
      "  [1. 1. 1.]]\n",
      "\n",
      " [[1. 1. 1.]\n",
      "  [1. 1. 1.]]\n",
      "\n",
      " [[1. 1. 1.]\n",
      "  [1. 1. 1.]]]\n"
     ]
    }
   ],
   "source": [
    "print(b)"
   ]
  },
  {
   "cell_type": "markdown",
   "id": "a1b0763a",
   "metadata": {},
   "source": [
    "#7. Do a and b have the same size? How do you prove that in Python code?"
   ]
  },
  {
   "cell_type": "code",
   "execution_count": 7,
   "id": "b7690c40",
   "metadata": {},
   "outputs": [
    {
     "name": "stdout",
     "output_type": "stream",
     "text": [
      "30\n",
      "30\n"
     ]
    }
   ],
   "source": [
    "print(a.size)\n",
    "print(b.size)"
   ]
  },
  {
   "cell_type": "markdown",
   "id": "91be169a",
   "metadata": {},
   "source": [
    "#8. Are you able to add a and b? Why or why not?"
   ]
  },
  {
   "cell_type": "code",
   "execution_count": 8,
   "id": "e2cc4932",
   "metadata": {},
   "outputs": [
    {
     "ename": "ValueError",
     "evalue": "operands could not be broadcast together with shapes (2,3,5) (5,2,3) ",
     "output_type": "error",
     "traceback": [
      "\u001b[1;31m---------------------------------------------------------------------------\u001b[0m",
      "\u001b[1;31mValueError\u001b[0m                                Traceback (most recent call last)",
      "\u001b[1;32m~\\AppData\\Local\\Temp\\ipykernel_8668\\1216668022.py\u001b[0m in \u001b[0;36m<module>\u001b[1;34m\u001b[0m\n\u001b[1;32m----> 1\u001b[1;33m \u001b[0ma\u001b[0m \u001b[1;33m+\u001b[0m \u001b[0mb\u001b[0m\u001b[1;33m\u001b[0m\u001b[1;33m\u001b[0m\u001b[0m\n\u001b[0m",
      "\u001b[1;31mValueError\u001b[0m: operands could not be broadcast together with shapes (2,3,5) (5,2,3) "
     ]
    }
   ],
   "source": [
    "a + b"
   ]
  },
  {
   "cell_type": "markdown",
   "id": "47aab549",
   "metadata": {},
   "source": [
    "#9. Transpose b so that it has the same structure of a (i.e. become a 2x3x5 array). Assign the transposed array to varialbe \"c\"."
   ]
  },
  {
   "cell_type": "code",
   "execution_count": 9,
   "id": "2f443bd2",
   "metadata": {},
   "outputs": [
    {
     "name": "stdout",
     "output_type": "stream",
     "text": [
      "[[[1. 1. 1. 1. 1.]\n",
      "  [1. 1. 1. 1. 1.]\n",
      "  [1. 1. 1. 1. 1.]]\n",
      "\n",
      " [[1. 1. 1. 1. 1.]\n",
      "  [1. 1. 1. 1. 1.]\n",
      "  [1. 1. 1. 1. 1.]]]\n"
     ]
    },
    {
     "data": {
      "text/plain": [
       "(2, 3, 5)"
      ]
     },
     "execution_count": 9,
     "metadata": {},
     "output_type": "execute_result"
    }
   ],
   "source": [
    "c = b.transpose(1, 2, 0)\n",
    "print(c)\n",
    "c.shape"
   ]
  },
  {
   "cell_type": "markdown",
   "id": "7f6e4cbf",
   "metadata": {},
   "source": [
    "#10. Try to add a and c. Now it should work. Assign the sum to varialbe \"d\". But why does it work now?"
   ]
  },
  {
   "cell_type": "code",
   "execution_count": 10,
   "id": "3127503f",
   "metadata": {},
   "outputs": [
    {
     "name": "stdout",
     "output_type": "stream",
     "text": [
      "[[[1.97406117 1.79985052 1.19127278 1.14968415 1.48996757]\n",
      "  [1.24453817 1.21364328 1.19700443 1.95558636 1.78461205]\n",
      "  [1.64025474 1.25310534 1.483676   1.10802373 1.40653242]]\n",
      "\n",
      " [[1.22541307 1.83245978 1.62813706 1.79620211 1.46332068]\n",
      "  [1.55826464 1.07283076 1.52204589 1.57846786 1.29153616]\n",
      "  [1.55337331 1.41475841 1.48480169 1.22443061 1.37287129]]]\n"
     ]
    }
   ],
   "source": [
    "d = a + c\n",
    "print(d)\n",
    "\n",
    "# It works because the structure of both arrays is the same. "
   ]
  },
  {
   "cell_type": "markdown",
   "id": "686815a1",
   "metadata": {},
   "source": [
    "\n",
    "#11. Print a and d. Notice the difference and relation of the two array in terms of the values? Explain."
   ]
  },
  {
   "cell_type": "code",
   "execution_count": 11,
   "id": "f70c4406",
   "metadata": {},
   "outputs": [
    {
     "name": "stdout",
     "output_type": "stream",
     "text": [
      "[[[1.97406117 1.79985052 1.19127278 1.14968415 1.48996757]\n",
      "  [1.24453817 1.21364328 1.19700443 1.95558636 1.78461205]\n",
      "  [1.64025474 1.25310534 1.483676   1.10802373 1.40653242]]\n",
      "\n",
      " [[1.22541307 1.83245978 1.62813706 1.79620211 1.46332068]\n",
      "  [1.55826464 1.07283076 1.52204589 1.57846786 1.29153616]\n",
      "  [1.55337331 1.41475841 1.48480169 1.22443061 1.37287129]]]\n"
     ]
    }
   ],
   "source": [
    "print(d)"
   ]
  },
  {
   "cell_type": "code",
   "execution_count": 12,
   "id": "8350d7ea",
   "metadata": {},
   "outputs": [
    {
     "name": "stdout",
     "output_type": "stream",
     "text": [
      "[[[0.97406117 0.79985052 0.19127278 0.14968415 0.48996757]\n",
      "  [0.24453817 0.21364328 0.19700443 0.95558636 0.78461205]\n",
      "  [0.64025474 0.25310534 0.483676   0.10802373 0.40653242]]\n",
      "\n",
      " [[0.22541307 0.83245978 0.62813706 0.79620211 0.46332068]\n",
      "  [0.55826464 0.07283076 0.52204589 0.57846786 0.29153616]\n",
      "  [0.55337331 0.41475841 0.48480169 0.22443061 0.37287129]]]\n"
     ]
    }
   ],
   "source": [
    "print(a)\n",
    "\n",
    "# The array d is a+1, as we add a np.ones array with same size to a."
   ]
  },
  {
   "cell_type": "markdown",
   "id": "0e56deff",
   "metadata": {},
   "source": [
    "#12. Multiply a and c. Assign the result to e."
   ]
  },
  {
   "cell_type": "code",
   "execution_count": 27,
   "id": "6c70ba15",
   "metadata": {},
   "outputs": [
    {
     "name": "stdout",
     "output_type": "stream",
     "text": [
      "[[[0.97406117 0.79985052 0.19127278 0.14968415 0.48996757]\n",
      "  [0.24453817 0.21364328 0.19700443 0.95558636 0.78461205]\n",
      "  [0.64025474 0.25310534 0.483676   0.10802373 0.40653242]]\n",
      "\n",
      " [[0.22541307 0.83245978 0.62813706 0.79620211 0.46332068]\n",
      "  [0.55826464 0.07283076 0.52204589 0.57846786 0.29153616]\n",
      "  [0.55337331 0.41475841 0.48480169 0.22443061 0.37287129]]]\n"
     ]
    }
   ],
   "source": [
    "e = a * c\n",
    "\n",
    "print(e)\n"
   ]
  },
  {
   "cell_type": "markdown",
   "id": "e6471021",
   "metadata": {},
   "source": [
    "#13. Does e equal to a? Why or why not?"
   ]
  },
  {
   "cell_type": "code",
   "execution_count": 14,
   "id": "4dcde4e2",
   "metadata": {},
   "outputs": [],
   "source": [
    "# Yes, because you are multiplying by an array full of 1s, and both arrays have the same structure,\n",
    "# so the can be multiplyied element by element. "
   ]
  },
  {
   "cell_type": "markdown",
   "id": "34837979",
   "metadata": {},
   "source": [
    "#14. Identify the max, min, and mean values in d. Assign those values to variables \"d_max\", \"d_min\", and \"d_mean\""
   ]
  },
  {
   "cell_type": "code",
   "execution_count": 15,
   "id": "b36bc60a",
   "metadata": {},
   "outputs": [],
   "source": [
    "d_max = np.max(d)\n",
    "d_min = np.min(d)\n",
    "d_mean = np.mean(d)\n"
   ]
  },
  {
   "cell_type": "markdown",
   "id": "a89bffa2",
   "metadata": {},
   "source": [
    "#15. Now we want to label the values in d. First create an empty array \"f\" with the same shape (i.e. 2x3x5) as d using `np.empty`."
   ]
  },
  {
   "cell_type": "code",
   "execution_count": 20,
   "id": "0a23fb04",
   "metadata": {},
   "outputs": [],
   "source": [
    "f = np.empty((2, 3, 5))"
   ]
  },
  {
   "cell_type": "markdown",
   "id": "01d625e9",
   "metadata": {},
   "source": [
    "#16. Populate the values in f. For each value in d, if it's larger than d_min but smaller than d_mean, assign 25 to the corresponding value in f.\n",
    "\n",
    "If a value in d is larger than d_mean but smaller than d_max, assign 75 to the corresponding value in f.\n",
    "\n",
    "If a value equals to d_mean, assign 50 to the corresponding value in f.\n",
    "\n",
    "Assign 0 to the corresponding value(s) in f for d_min in d.\n",
    "\n",
    "Assign 100 to the corresponding value(s) in f for d_max in d.\n",
    "\n",
    "In the end, f should have only the following values: 0, 25, 50, 75, and 100.\n",
    "\n",
    "Note: you don't have to use Numpy in this question.\n",
    "\n",
    "\n"
   ]
  },
  {
   "cell_type": "code",
   "execution_count": 25,
   "id": "0b670334",
   "metadata": {},
   "outputs": [
    {
     "name": "stdout",
     "output_type": "stream",
     "text": [
      "[[[1.97406117 1.79985052 1.19127278 1.14968415 1.48996757]\n",
      "  [1.24453817 1.21364328 1.19700443 1.95558636 1.78461205]\n",
      "  [1.64025474 1.25310534 1.483676   1.10802373 1.40653242]]\n",
      "\n",
      " [[1.22541307 1.83245978 1.62813706 1.79620211 1.46332068]\n",
      "  [1.55826464 1.07283076 1.52204589 1.57846786 1.29153616]\n",
      "  [1.55337331 1.41475841 1.48480169 1.22443061 1.37287129]]]\n",
      "2\n"
     ]
    },
    {
     "data": {
      "text/plain": [
       "(2, 3, 5)"
      ]
     },
     "execution_count": 25,
     "metadata": {},
     "output_type": "execute_result"
    }
   ],
   "source": [
    "print(d)\n",
    "\n",
    "print(len(d))\n",
    "\n",
    "f.shape"
   ]
  },
  {
   "cell_type": "code",
   "execution_count": 28,
   "id": "69abf23d",
   "metadata": {},
   "outputs": [
    {
     "name": "stdout",
     "output_type": "stream",
     "text": [
      "[[[1.97406117 1.79985052 1.19127278 1.14968415 1.48996757]\n",
      "  [1.24453817 1.21364328 1.19700443 1.95558636 1.78461205]\n",
      "  [1.64025474 1.25310534 1.483676   1.10802373 1.40653242]]\n",
      "\n",
      " [[1.22541307 1.83245978 1.62813706 1.79620211 1.46332068]\n",
      "  [1.55826464 1.07283076 1.52204589 1.57846786 1.29153616]\n",
      "  [1.55337331 1.41475841 1.48480169 1.22443061 1.37287129]]]\n",
      "[[[100.  75.  25.  25.  75.]\n",
      "  [ 25.  25.  25.  75.  75.]\n",
      "  [ 75.  25.  75.  25.  25.]]\n",
      "\n",
      " [[ 25.  75.  75.  75.  25.]\n",
      "  [ 75.   0.  75.  75.  25.]\n",
      "  [ 75.  25.  75.  25.  25.]]]\n"
     ]
    }
   ],
   "source": [
    "for i in range(len(d)):\n",
    "    \n",
    "    for j in range(len(d[i])):\n",
    "        \n",
    "        for k in range(len(d[i][j])):\n",
    "            \n",
    "            e = d[i][j][k]\n",
    "\n",
    "            if d_min < e < d_mean:\n",
    "\n",
    "                f[i][j][k] = 25\n",
    "\n",
    "            elif d_mean < e < d_max:\n",
    "\n",
    "                f[i][j][k] = 75\n",
    "\n",
    "            elif e == d_mean:\n",
    "\n",
    "                f[i][j][k] = 50\n",
    "\n",
    "            elif e == d_min:\n",
    "\n",
    "                f[i][j][k] = 0\n",
    "\n",
    "            elif e == d_max:\n",
    "\n",
    "                f[i][j][k] = 100\n",
    "        \n",
    "print(d)\n",
    "print(f)"
   ]
  },
  {
   "cell_type": "markdown",
   "id": "ef75868f",
   "metadata": {},
   "source": [
    "#17. Print d and f. Do you have your expected f?\n",
    "For instance, if your d is:\n",
    "array([[[1.85836099, 1.67064465, 1.62576044, 1.40243961, 1.88454931],\n",
    "        [1.75354326, 1.69403643, 1.36729252, 1.61415071, 1.12104981],\n",
    "        [1.72201435, 1.1862918 , 1.87078449, 1.7726778 , 1.88180042]],\n",
    "\n",
    "       [[1.44747908, 1.31673383, 1.02000951, 1.52218947, 1.97066381],\n",
    "        [1.79129243, 1.74983003, 1.96028037, 1.85166831, 1.65450881],\n",
    "        [1.18068344, 1.9587381 , 1.00656599, 1.93402165, 1.73514584]]])\n",
    "\n",
    "Your f should be:\n",
    "array([[[ 75.,  75.,  75.,  25.,  75.],\n",
    "        [ 75.,  75.,  25.,  25.,  25.],\n",
    "        [ 75.,  25.,  75.,  75.,  75.]],\n",
    "\n",
    "       [[ 25.,  25.,  25.,  25., 100.],\n",
    "        [ 75.,  75.,  75.,  75.,  75.],\n",
    "        [ 25.,  75.,   0.,  75.,  75.]]])"
   ]
  },
  {
   "cell_type": "code",
   "execution_count": null,
   "id": "e836d480",
   "metadata": {},
   "outputs": [],
   "source": []
  },
  {
   "cell_type": "markdown",
   "id": "928008e7",
   "metadata": {},
   "source": [
    "#18. Bonus question: instead of using numbers (i.e. 0, 25, 50, 75, and 100), how to use string values \n",
    "(\"A\", \"B\", \"C\", \"D\", and \"E\") to label the array elements? You are expecting the result to be:\n",
    "array([[[ 'D',  'D',  'D',  'B',  'D'],\n",
    "        [ 'D',  'D',  'B',  'B',  'B'],\n",
    "        [ 'D',  'B',  'D',  'D',  'D']],\n",
    "\n",
    "       [[ 'B',  'B',  'B',  'B',  'E'],\n",
    "        [ 'D',  'D',  'D',  'D',  'D'],\n",
    "        [ 'B',  'D',   'A',  'D', 'D']]])\n",
    "Again, you don't need Numpy in this question"
   ]
  },
  {
   "cell_type": "code",
   "execution_count": null,
   "id": "a583e0f5",
   "metadata": {},
   "outputs": [],
   "source": []
  },
  {
   "cell_type": "markdown",
   "id": "2c913356",
   "metadata": {},
   "source": []
  },
  {
   "cell_type": "code",
   "execution_count": null,
   "id": "f24436f8",
   "metadata": {},
   "outputs": [],
   "source": []
  },
  {
   "cell_type": "markdown",
   "id": "3a824b4e",
   "metadata": {},
   "source": []
  },
  {
   "cell_type": "code",
   "execution_count": null,
   "id": "e093eec9",
   "metadata": {},
   "outputs": [],
   "source": []
  }
 ],
 "metadata": {
  "kernelspec": {
   "display_name": "Python 3 (ipykernel)",
   "language": "python",
   "name": "python3"
  },
  "language_info": {
   "codemirror_mode": {
    "name": "ipython",
    "version": 3
   },
   "file_extension": ".py",
   "mimetype": "text/x-python",
   "name": "python",
   "nbconvert_exporter": "python",
   "pygments_lexer": "ipython3",
   "version": "3.9.13"
  }
 },
 "nbformat": 4,
 "nbformat_minor": 5
}
